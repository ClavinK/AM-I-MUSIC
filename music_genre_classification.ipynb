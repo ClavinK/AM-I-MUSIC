{
 "cells": [
  {
   "cell_type": "code",
   "execution_count": 1,
   "id": "b5298ec0-a3bd-485c-91f2-3065457ac5da",
   "metadata": {},
   "outputs": [],
   "source": [
    "import numpy as np\n",
    "import pandas as pd\n",
    "import scipy.io.wavfile as wav\n",
    "from python_speech_features import mfcc\n",
    "from tempfile import TemporaryFile\n",
    "from pydub import AudioSegment\n",
    "import os\n",
    "import math\n",
    "import pickle\n",
    "import random\n",
    "import operator"
   ]
  },
  {
   "cell_type": "code",
   "execution_count": 2,
   "id": "f83da9a0-4082-4106-8e33-0163b92e66e0",
   "metadata": {},
   "outputs": [],
   "source": [
    "# Calculating the distance between 2 instances (points)\n",
    "def distance(instance1, instance2, k):\n",
    "    distance = 0\n",
    "    mm1 = instance1[0]\n",
    "    cm1 = instance1[1]\n",
    "    mm2 = instance2[0]\n",
    "    cm2 = instance2[1]\n",
    "    distance = np.trace(np.dot(np.linalg.inv(cm2), cm1))\n",
    "    distance += (np.dot(np.dot((mm2-mm1).transpose(), np.linalg.inv(cm2)), mm2-mm1))\n",
    "    distance += np.log(np.linalg.det(cm2)) - np.log(np.linalg.det(cm1))\n",
    "    distance -= k\n",
    "    return distance"
   ]
  },
  {
   "cell_type": "code",
   "execution_count": 3,
   "id": "85a910ee-fc81-4bd8-9d78-15e4878f9984",
   "metadata": {},
   "outputs": [],
   "source": [
    "#define a function to get distance between feature vectors and find neighbors\n",
    "def getNeighbors(trainingset, instance, k):\n",
    "    distances = []\n",
    "    for x in range(len(trainingset)):\n",
    "        dist = distance(trainingset[x], instance, k) + distance(instance,trainingset[x],k)\n",
    "        distances.append((trainingset[x][2], dist))\n",
    "    distances.sort(key=operator.itemgetter(1))\n",
    "    neighbors = []\n",
    "    for x in range(k):\n",
    "        neighbors.append(distances[x][0])\n",
    "    return neighbors"
   ]
  },
  {
   "cell_type": "code",
   "execution_count": 4,
   "id": "bf32e8ee-e94b-42dd-86e3-114f6138abe4",
   "metadata": {},
   "outputs": [],
   "source": [
    "#function to identify the nearest neighbors\n",
    "def nearestclass(neighbors):\n",
    "    classVote = {}\n",
    "    \n",
    "    for x in range(len(neighbors)):\n",
    "        response = neighbors[x]\n",
    "        if response in classVote:\n",
    "            classVote[response] += 1\n",
    "        else:\n",
    "            classVote[response] = 1\n",
    "            \n",
    "    sorter = sorted(classVote.items(), key=operator.itemgetter(1), reverse=True)\n",
    "    return sorter[0][0]"
   ]
  },
  {
   "cell_type": "code",
   "execution_count": 5,
   "id": "51e010ed-42b4-4269-a832-b06191f78660",
   "metadata": {},
   "outputs": [],
   "source": [
    "#function that evaluates model and checks accuracy and performance of the algorithm\n",
    "def getAccuracy(testSet, prediction):\n",
    "    correct = 0\n",
    "    for x in range(len(testSet)):\n",
    "        if testSet[x][-1] == prediction[x]:\n",
    "            correct += 1\n",
    "    return 1.0 * correct / len(testSet)"
   ]
  },
  {
   "cell_type": "code",
   "execution_count": 6,
   "id": "814ab336-5a9a-43e3-9493-4e6f6dff7fc5",
   "metadata": {},
   "outputs": [
    {
     "name": "stdout",
     "output_type": "stream",
     "text": [
      "Got an exception:  File format b'\\xcb\\x15\\x1e\\x16' not understood. Only 'RIFF' and 'RIFX' supported. in folder:  jazz  filename:  jazz.00054.wav\n"
     ]
    }
   ],
   "source": [
    "# Change the file path to your file location in the GTZAN folder\n",
    "directory = \"C:\\\\Users\\\\omega\\\\Desktop\\\\MusicData\\\\genres_original\"\n",
    "# mydataset.dat is in the same folder as this ipynb file\n",
    "f = open(\"mydataset.dat\", \"wb\")\n",
    "i = 0\n",
    "for folder in os.listdir(directory):\n",
    "    #print(folder)\n",
    "    i += 1\n",
    "    if i == 11:\n",
    "        break\n",
    "    for file in os.listdir(directory+\"/\"+folder):\n",
    "        #print(file)\n",
    "        try:\n",
    "            (rate, sig) = wav.read(directory+\"/\"+folder+\"/\"+file)\n",
    "            mfcc_feat = mfcc(sig, rate, winlen = 0.020, appendEnergy=False)\n",
    "            covariance = np.cov(np.matrix.transpose(mfcc_feat))\n",
    "            mean_matrix = mfcc_feat.mean(0)\n",
    "            feature = (mean_matrix, covariance, i)\n",
    "            pickle.dump(feature, f)\n",
    "        except Exception as e:\n",
    "            print(\"Got an exception: \", e, 'in folder: ', folder, ' filename: ', file)\n",
    "f.close()"
   ]
  },
  {
   "cell_type": "code",
   "execution_count": 7,
   "id": "d95697dd-d5f8-4e6e-8734-fee89caf5c74",
   "metadata": {},
   "outputs": [],
   "source": [
    "dataset = []\n",
    "\n",
    "def loadDataset(filename, split, trset, teset):\n",
    "    with open('mydataset.dat','rb') as f:\n",
    "        while True:\n",
    "            try:\n",
    "                dataset.append(pickle.load(f))\n",
    "            except EOFError:\n",
    "                f.close()\n",
    "                break\n",
    "    for x in range(len(dataset)):\n",
    "        if random.random() < split:\n",
    "            trset.append(dataset[x])\n",
    "        else:\n",
    "            teset.append(dataset[x])\n",
    "\n",
    "trainingSet = []\n",
    "testSet = []\n",
    "loadDataset('my.dat', 0.68, trainingSet, testSet)"
   ]
  },
  {
   "cell_type": "code",
   "execution_count": 8,
   "id": "a7bfd319-2fb4-4057-8946-9ff05e68cdfa",
   "metadata": {},
   "outputs": [
    {
     "name": "stdout",
     "output_type": "stream",
     "text": [
      "0.7147239263803681\n"
     ]
    }
   ],
   "source": [
    "# Make the prediction using KNN\n",
    "length = len(testSet)\n",
    "predictions = []\n",
    "for x in range(length):\n",
    "    predictions.append(nearestclass(getNeighbors(trainingSet, testSet[x], 5)))\n",
    "\n",
    "accuracy1 = getAccuracy(testSet, predictions)\n",
    "print(accuracy1)"
   ]
  },
  {
   "cell_type": "code",
   "execution_count": 10,
   "id": "a96dc681-36a1-4756-802a-312cd312b8fb",
   "metadata": {},
   "outputs": [
    {
     "name": "stdout",
     "output_type": "stream",
     "text": [
      "rock\n"
     ]
    }
   ],
   "source": [
    "from collections import defaultdict\n",
    "results = defaultdict(int)\n",
    "\n",
    "directory = \"C:\\\\Users\\\\omega\\\\Desktop\\\\MusicData\\\\genres_original\"\n",
    "\n",
    "i = 1\n",
    "for folder in os.listdir(directory):\n",
    "    results[i] = folder\n",
    "    i += 1\n",
    "\n",
    "pred = nearestclass(getNeighbors(dataset, feature, 5))\n",
    "# print(\"Dataset \", dataset)\n",
    "# print(\"Feature \", feature)\n",
    "print(results[pred])"
   ]
  },
  {
   "cell_type": "code",
   "execution_count": 20,
   "id": "64b49dd2-ced2-4e7c-b48c-897d86f1435e",
   "metadata": {},
   "outputs": [
    {
     "data": {
      "text/plain": [
       "<_io.BufferedRandom name='results.wav'>"
      ]
     },
     "execution_count": 20,
     "metadata": {},
     "output_type": "execute_result"
    }
   ],
   "source": [
    "# input_file = \"C:\\\\Users\\\\omega\\\\Downloads\\\\Classical.mp3\"\n",
    "# input_file = \"C:\\\\Users\\\\omega\\\\Downloads\\\\Espresso.mp3\"\n",
    "# input_file = \"C:\\\\Users\\\\omega\\\\Downloads\\\\Pyramids.mp3\"\n",
    "input_file = \"C:\\\\Users\\\\omega\\\\Downloads\\\\EvilJordan.mp3\"\n",
    "# input_file = \"C:\\\\Users\\\\omega\\\\Downloads\\\\Straight Outta Compton.mp3\"\n",
    "# input_file = \"C:\\\\Users\\\\omega\\\\Downloads\\\\WhiskeyGlasses.mp3\"\n",
    "output_file = \"results.wav\"\n",
    "\n",
    "sound = AudioSegment.from_mp3(input_file)\n",
    "sound.export(output_file, format=\"wav\")"
   ]
  },
  {
   "cell_type": "code",
   "execution_count": 21,
   "id": "883919be-a7da-4ac7-8ca3-97fdd969e61b",
   "metadata": {},
   "outputs": [
    {
     "name": "stdout",
     "output_type": "stream",
     "text": [
      "predicted Genre:  pop\n"
     ]
    }
   ],
   "source": [
    "def classify_audio(file_path, k=5):\n",
    "    try:\n",
    "        rate, sig = wav.read(file_path)\n",
    "\n",
    "        mfcc_feat = mfcc(sig, rate, winlen=0.020, nfft=1024, appendEnergy=False)\n",
    "        covariance = np.cov(np.matrix.transpose(mfcc_feat))\n",
    "        mean_matrix = mfcc_feat.mean(0)\n",
    "        new_feature = (mean_matrix, covariance)\n",
    "\n",
    "        neighbors = getNeighbors(dataset, new_feature, k)\n",
    "        pred_label = nearestclass(neighbors)\n",
    "\n",
    "        genre = results[pred_label]\n",
    "        return genre\n",
    "    except Exception as e:\n",
    "        print(\"Error: \", e)\n",
    "\n",
    "# new_song = \"C:\\\\Users\\\\omega\\\\Desktop\\\\MusicData\\\\genres_original\\\\country\\\\country.00001.wav\"\n",
    "new_song = output_file\n",
    "predicted_genre = classify_audio(new_song)\n",
    "print(\"predicted Genre: \", predicted_genre)"
   ]
  }
 ],
 "metadata": {
  "kernelspec": {
   "display_name": ".venv",
   "language": "python",
   "name": "python3"
  },
  "language_info": {
   "codemirror_mode": {
    "name": "ipython",
    "version": 3
   },
   "file_extension": ".py",
   "mimetype": "text/x-python",
   "name": "python",
   "nbconvert_exporter": "python",
   "pygments_lexer": "ipython3",
   "version": "3.13.1"
  }
 },
 "nbformat": 4,
 "nbformat_minor": 5
}
