{
 "cells": [
  {
   "cell_type": "code",
   "execution_count": 49,
   "id": "b5298ec0-a3bd-485c-91f2-3065457ac5da",
   "metadata": {},
   "outputs": [],
   "source": [
    "import numpy as np\n",
    "import pandas as pd\n",
    "import scipy.io.wavfile as wav\n",
    "from python_speech_features import mfcc\n",
    "from tempfile import TemporaryFile\n",
    "import os\n",
    "import math\n",
    "import pickle\n",
    "import random\n",
    "import operator"
   ]
  },
  {
   "cell_type": "code",
   "execution_count": 50,
   "id": "85a910ee-fc81-4bd8-9d78-15e4878f9984",
   "metadata": {},
   "outputs": [],
   "source": [
    "#define a function to get distance between feature vectors and find neighbors\n",
    "def getNeighbors(trainingset, instance, k):\n",
    "    distances = []\n",
    "    for x in range(len(trainingset)):\n",
    "        dist = distance(trainingset[x], instance, k) + distance(instance, trainingset[x], k)\n",
    "        distances.append((trainingset[x][2], dist))\n",
    "    distances.sort(key=operator.itemgetter(1))\n",
    "    neighbors = []\n",
    "    for x in range(k):\n",
    "        neighbors.append(distances[x][0])\n",
    "    return neighbors"
   ]
  },
  {
   "cell_type": "code",
   "execution_count": 51,
   "id": "bf32e8ee-e94b-42dd-86e3-114f6138abe4",
   "metadata": {},
   "outputs": [],
   "source": [
    "#function to identify the nearest neighbors\n",
    "def nearestClass(neighbors):\n",
    "    classVote = {}\n",
    "\n",
    "    for x in range(len(neighbors)):\n",
    "        response = neighbors[x]\n",
    "        if response in classVote:\n",
    "            classVote[response] += 1\n",
    "        else:\n",
    "            classVote[response] = 1\n",
    "    sorter = sorted(classVote.items(), key=operator.itemgetter(1), reverse=True)\n",
    "    return sorter[0][0]\n",
    "        "
   ]
  },
  {
   "cell_type": "code",
   "execution_count": 52,
   "id": "51e010ed-42b4-4269-a832-b06191f78660",
   "metadata": {},
   "outputs": [],
   "source": [
    "#function that evaluates model and checks accuracy and performance of the algorithm\n",
    "def getAccuracy(testSet, prediction):\n",
    "    correct = 0\n",
    "    for x in range(len(testSet)):\n",
    "        if testSet[x][-1] == prediction[x]:\n",
    "            correct += 1\n",
    "    return 1.0 * correct / len(testSet)"
   ]
  },
  {
   "cell_type": "code",
   "execution_count": 53,
   "id": "814ab336-5a9a-43e3-9493-4e6f6dff7fc5",
   "metadata": {},
   "outputs": [
    {
     "name": "stdout",
     "output_type": "stream",
     "text": [
      "Got an exception:  File format b'\\xcb\\x15\\x1e\\x16' not understood. Only 'RIFF' and 'RIFX' supported. in folder:  jazz  filename:  jazz.00054.wav\n"
     ]
    }
   ],
   "source": [
    "# Change the file path to your file location in the GTZAN folder\n",
    "directory = \"C:\\\\Users\\\\omega\\\\Desktop\\\\MusicData\\\\genres_original\"\n",
    "# mydataset.dat was in the same folder as this ipynb file\n",
    "f = open(\"mydataset.dat\", \"wb\")\n",
    "i = 0\n",
    "for folder in os.listdir(directory):\n",
    "    #print(folder)\n",
    "    i += 1\n",
    "    if i == 11:\n",
    "        break\n",
    "    for file in os.listdir(directory+\"/\"+folder):\n",
    "        # print(file)\n",
    "        try:\n",
    "            (rate, sig) = wav.read(directory+\"/\"+folder+\"/\"+file)\n",
    "            mfcc_feat = mfcc(sig, rate, winlen = 0.020, appendEnergy=False)\n",
    "            covariance = np.cov(np.matrix.transpose(mfcc_feat))\n",
    "            mean_matrix = mfcc_feat.mean(0)\n",
    "            feature = (mean_matrix, covariance, i)\n",
    "            pickle.dump(feature, f)\n",
    "        except Exception as e:\n",
    "            print(\"Got an exception: \", e, 'in folder: ', folder, ' filename: ', file)\n",
    "f.close()"
   ]
  },
  {
   "cell_type": "code",
   "execution_count": 54,
   "id": "d95697dd-d5f8-4e6e-8734-fee89caf5c74",
   "metadata": {},
   "outputs": [],
   "source": [
    "dataset = []\n",
    "\n",
    "def loadDataset(filename, split, trset, teset):\n",
    "    with open('mydataset.dat', 'rb') as f:\n",
    "        while True:\n",
    "            try:\n",
    "                dataset.append(pickle.load(f))\n",
    "            except EOFError:\n",
    "                f.close()\n",
    "                break\n",
    "\n",
    "    for x in range(len(dataset)):\n",
    "        if random.random() < split:\n",
    "            trset.append(dataset[x])\n",
    "        else:\n",
    "            teset.append(dataset[x])\n",
    "trainingSet = []\n",
    "testSet = []\n",
    "loadDataset('mydataset.dat', 0.68, trainingSet, testSet)"
   ]
  },
  {
   "cell_type": "code",
   "execution_count": 57,
   "id": "f83da9a0-4082-4106-8e33-0163b92e66e0",
   "metadata": {},
   "outputs": [],
   "source": [
    "# Calculating the distance between 2 instances (points)\n",
    "def distance(instance1, instance2, k):\n",
    "    distance = 0\n",
    "    mm1 = instance1[0]\n",
    "    cm1 = instance1[1]\n",
    "    mm2 = instance2[0]\n",
    "    cm2 = instance2[1]\n",
    "    distance = np.trace(np.dot(np.linalg.inv(cm2), cm1))\n",
    "    distance += (np.dot(np.dot((mm2-mm1).transpose(), np.linalg.inv(cm2)), mm2-mm1))\n",
    "    distance += np.log(np.linalg.det(cm2)) - np.log(np.linalg.det(cm1))\n",
    "    distance -= k\n",
    "    return distance"
   ]
  },
  {
   "cell_type": "code",
   "execution_count": 58,
   "id": "a7bfd319-2fb4-4057-8946-9ff05e68cdfa",
   "metadata": {},
   "outputs": [
    {
     "name": "stdout",
     "output_type": "stream",
     "text": [
      "0.7102803738317757\n"
     ]
    }
   ],
   "source": [
    "# Make the prediction using KNN\n",
    "length = len(testSet)\n",
    "predictions = []\n",
    "for x in range(length):\n",
    "    predictions.append(nearestClass(getNeighbors(trainingSet, testSet[x], 5)))\n",
    "\n",
    "accuracy1 = getAccuracy(testSet, predictions)\n",
    "print(accuracy1)"
   ]
  },
  {
   "cell_type": "code",
   "execution_count": 70,
   "id": "a96dc681-36a1-4756-802a-312cd312b8fb",
   "metadata": {},
   "outputs": [
    {
     "name": "stdout",
     "output_type": "stream",
     "text": [
      "Feature  (array([ 65.8878602 ,   1.20243799, -15.65300447,   9.13743547,\n",
      "        -5.63116739,   6.63157438,  -9.17150784,   5.31948596,\n",
      "       -12.85501962,   9.33670177,  -5.47233043,   6.3152848 ,\n",
      "       -15.40720607]), array([[ 82.45208072, -78.48347185, -65.79196127,   8.14888424,\n",
      "        -13.24404467,  -1.47596162, -28.76394202,   3.17409845,\n",
      "         -7.7266519 ,  15.58920197,  -6.9924803 ,  12.46773031,\n",
      "         17.46582056],\n",
      "       [-78.48347185, 103.32137501,  42.81593589, -26.55003983,\n",
      "          1.35737792, -19.29198704,  36.19919277,  -5.41647976,\n",
      "          8.18334609,  -8.77736842,  20.43782848, -14.31894329,\n",
      "        -23.33771922],\n",
      "       [-65.79196127,  42.81593589, 114.56661863,  13.03672767,\n",
      "         -2.30504257, -15.73869831,   4.21668427,  -9.60216018,\n",
      "        -10.77743446, -13.29177223, -14.32838794,  -5.9586291 ,\n",
      "         -4.17779231],\n",
      "       [  8.14888424, -26.55003983,  13.03672767,  69.95900415,\n",
      "          9.81494532,  -1.74764621, -44.6233195 ,  -3.74868597,\n",
      "         -0.31314729,  -5.99477947, -28.39086151,  11.07106526,\n",
      "         32.83183556],\n",
      "       [-13.24404467,   1.35737792,  -2.30504257,   9.81494532,\n",
      "         77.51207094,  38.4025656 , -10.32689863,  -7.19228521,\n",
      "         16.72601627,  -7.43272161, -13.96718248, -16.98818582,\n",
      "          9.43131704],\n",
      "       [ -1.47596162, -19.29198704, -15.73869831,  -1.74764621,\n",
      "         38.4025656 , 121.94681409,  11.39364461,   8.83849341,\n",
      "          6.57051749,  -9.44072932,  -1.51686201, -14.43153021,\n",
      "          2.2229559 ],\n",
      "       [-28.76394202,  36.19919277,   4.21668427, -44.6233195 ,\n",
      "        -10.32689863,  11.39364461, 110.28029973,  26.14283487,\n",
      "          3.54921554,  -7.41088343,  26.02573459,  -8.58746673,\n",
      "        -39.46044368],\n",
      "       [  3.17409845,  -5.41647976,  -9.60216018,  -3.74868597,\n",
      "         -7.19228521,   8.83849341,  26.14283487,  85.91432852,\n",
      "         34.56603635, -15.87549891, -12.18110687,  -1.55721036,\n",
      "         10.58602401],\n",
      "       [ -7.7266519 ,   8.18334609, -10.77743446,  -0.31314729,\n",
      "         16.72601627,   6.57051749,   3.54921554,  34.56603635,\n",
      "         77.93403966,   4.98287818,  -2.70602422,  -4.10514747,\n",
      "          6.52876983],\n",
      "       [ 15.58920197,  -8.77736842, -13.29177223,  -5.99477947,\n",
      "         -7.43272161,  -9.44072932,  -7.41088343, -15.87549891,\n",
      "          4.98287818,  84.86041195,  36.27260982,   1.15024198,\n",
      "         -6.21814839],\n",
      "       [ -6.9924803 ,  20.43782848, -14.32838794, -28.39086151,\n",
      "        -13.96718248,  -1.51686201,  26.02573459, -12.18110687,\n",
      "         -2.70602422,  36.27260982, 100.94829086,  15.64739646,\n",
      "        -25.13566221],\n",
      "       [ 12.46773031, -14.31894329,  -5.9586291 ,  11.07106526,\n",
      "        -16.98818582, -14.43153021,  -8.58746673,  -1.55721036,\n",
      "         -4.10514747,   1.15024198,  15.64739646,  69.72657622,\n",
      "         13.39251071],\n",
      "       [ 17.46582056, -23.33771922,  -4.17779231,  32.83183556,\n",
      "          9.43131704,   2.2229559 , -39.46044368,  10.58602401,\n",
      "          6.52876983,  -6.21814839, -25.13566221,  13.39251071,\n",
      "         95.38238322]]), 10)\n",
      "disco\n"
     ]
    }
   ],
   "source": [
    "from collections import defaultdict\n",
    "results = defaultdict(int)\n",
    "\n",
    "directory = \"C:\\\\Users\\\\omega\\\\Desktop\\\\MusicData\\\\genres_original\"\n",
    "\n",
    "i = 1\n",
    "for folder in os.listdir(directory):\n",
    "    results[i] = folder\n",
    "    i += 1\n",
    "\n",
    "pred = nearestClass(getNeighbors(dataset, feature, 200))\n",
    "# print(\"Dataset \", dataset)\n",
    "print(\"Feature \", feature)\n",
    "print(results[pred])"
   ]
  },
  {
   "cell_type": "code",
   "execution_count": null,
   "id": "2d50fe6e-4f12-4748-8683-ba5ace66b506",
   "metadata": {},
   "outputs": [],
   "source": []
  }
 ],
 "metadata": {
  "kernelspec": {
   "display_name": "Python 3 (ipykernel)",
   "language": "python",
   "name": "python3"
  },
  "language_info": {
   "codemirror_mode": {
    "name": "ipython",
    "version": 3
   },
   "file_extension": ".py",
   "mimetype": "text/x-python",
   "name": "python",
   "nbconvert_exporter": "python",
   "pygments_lexer": "ipython3",
   "version": "3.12.3"
  }
 },
 "nbformat": 4,
 "nbformat_minor": 5
}
