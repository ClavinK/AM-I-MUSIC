{
 "cells": [
  {
   "cell_type": "code",
   "execution_count": 1,
   "id": "3bdbe4a4-bc87-4cce-bd84-2f1a8e96d856",
   "metadata": {},
   "outputs": [],
   "source": [
    "import os, sys\n",
    "import numpy as np\n",
    "import pandas as pd\n",
    "import librosa\n",
    "import IPython.display as ipd\n",
    "from tqdm import tqdm\n",
    "import matplotlib.pyplot as plt\n",
    "import librosa.display\n",
    "import tensorflow"
   ]
  },
  {
   "cell_type": "code",
   "execution_count": 2,
   "id": "79b0aeba-e39d-47d5-afe6-e8682dc981ab",
   "metadata": {},
   "outputs": [],
   "source": [
    "dirname = \"C:/Users/omega/Desktop/AM-I-MUSIC/MusicData/genres_original\"\n",
    "\n",
    "audio_paths = []\n",
    "audio_label = []\n",
    "\n",
    "for root, dirs, files in os.walk(dirname, topdown=False):\n",
    "    for filenames in files:\n",
    "        if filenames.find('.wav') != -1:\n",
    "            audio_paths.append(os.path.join(root, filenames))\n",
    "            filenames = filenames.split('.',1)\n",
    "            filenames = filenames[0]\n",
    "            audio_label.append(filenames)\n",
    "\n",
    "audio_paths = np.array(audio_paths)\n",
    "audio_label = np.array(audio_label)\n",
    "# audio_paths.shape"
   ]
  },
  {
   "cell_type": "code",
   "execution_count": 3,
   "id": "946a7f86-d2a3-4a23-af52-a22f78468304",
   "metadata": {},
   "outputs": [
    {
     "name": "stderr",
     "output_type": "stream",
     "text": [
      " 55%|█████▌    | 554/1000 [02:56<01:48,  4.10it/s]C:\\Users\\omega\\AppData\\Local\\Temp\\ipykernel_9948\\556671579.py:13: UserWarning: PySoundFile failed. Trying audioread instead.\n",
      "  y, sr = librosa.load(path)\n",
      "C:\\Users\\omega\\anaconda3\\Lib\\site-packages\\librosa\\core\\audio.py:184: FutureWarning: librosa.core.audio.__audioread_load\n",
      "\tDeprecated as of librosa version 0.10.0.\n",
      "\tIt will be removed in librosa version 1.0.\n",
      "  y, sr_native = __audioread_load(path, offset, duration, dtype)\n",
      "100%|██████████| 1000/1000 [05:38<00:00,  2.95it/s]\n"
     ]
    }
   ],
   "source": [
    "AllSpec = np.empty([1000, 1025, 1293])\n",
    "AllMel = np.empty([1000,128, 1293])\n",
    "AllMfcc = np.empty([1000, 10, 1293])\n",
    "AllZcr = np.empty([1000, 1293])\n",
    "AllCen = np.empty([1000, 1293])\n",
    "AllChroma = np.empty([1000, 12, 1293])\n",
    "\n",
    "count = 0\n",
    "bad_index = []\n",
    "for i in tqdm(range(len(audio_paths))):\n",
    "    try:\n",
    "        path = audio_paths[i]\n",
    "        y, sr = librosa.load(path)\n",
    "        \n",
    "        # Spectrogram\n",
    "        X = librosa.stft(y)\n",
    "        Xdb = librosa.amplitude_to_db(abs(X))\n",
    "        AllSpec[i] = Xdb\n",
    "\n",
    "        # Mel-Spectrogram\n",
    "        M = librosa.feature.melspectrogram(y=y)\n",
    "        M_db = librosa.power_to_db(M)\n",
    "        AllMel[i] = M_db\n",
    "\n",
    "        # MFCC\n",
    "        mfcc = librosa.feature.mfcc(y=y, sr=sr, n_mfcc=10)\n",
    "        AllMfcc[i] = mfcc\n",
    "\n",
    "        # Zero-crossing rate\n",
    "        zcr = librosa.feature.zero_crossing_rate(y)[0]\n",
    "        AllZcr[i] = zcr\n",
    "\n",
    "        # Spectral Centroid\n",
    "        sp_cen = librosa.feature.spectral_centroid(y=y, sr=sr)[0]\n",
    "        AllCen[i] = sp_cen\n",
    "\n",
    "        # Chromagram\n",
    "        chroma_stft = librosa.feature.chroma_stft(y=y, sr=sr, n_chroma=12, n_fft=4096)\n",
    "        AllChroma[i] = chroma_stft\n",
    "\n",
    "    except Exception as e:\n",
    "        bad_index.append(i)"
   ]
  },
  {
   "cell_type": "code",
   "execution_count": 4,
   "id": "83edc575-d5ad-412e-9485-63e61728b4c7",
   "metadata": {},
   "outputs": [],
   "source": [
    "AllSpec = np.delete(AllSpec, bad_index, 0)\n",
    "AllMel = np.delete(AllMel, bad_index, 0)\n",
    "AllMfcc = np.delete(AllMfcc, bad_index, 0)\n",
    "AllZcr = np.delete(AllZcr, bad_index, 0)\n",
    "AllCen = np.delete(AllCen, bad_index, 0)\n",
    "AllChroma = np.delete(AllChroma, bad_index, 0)\n",
    "\n",
    "AllSpec = AllSpec.astype(np.float32)\n",
    "AllMel = AllMel.astype(np.float32)\n",
    "AllMfcc = AllMfcc.astype(np.float32)\n",
    "AllZcr = AllZcr.astype(np.float32)\n",
    "AllCen = AllCen.astype(np.float32)\n",
    "AllChroma = AllChroma.astype(np.float32)\n",
    "\n",
    "audio_label = np.delete(audio_label, bad_index)\n",
    "\n",
    "audio_label[audio_label == 'blues'] = 0\n",
    "audio_label[audio_label == 'classical'] = 1\n",
    "audio_label[audio_label == 'country'] = 2\n",
    "audio_label[audio_label == 'disco'] = 3\n",
    "audio_label[audio_label == 'hiphop'] = 4\n",
    "audio_label[audio_label == 'jazz'] = 5\n",
    "audio_label[audio_label == 'metal'] = 6\n",
    "audio_label[audio_label == 'pop'] = 7\n",
    "audio_label[audio_label == 'reggae'] = 8\n",
    "audio_label[audio_label == 'rock'] = 9\n",
    "audio_label = [int(i) for i in audio_label]\n",
    "audio_label = np.array(audio_label)\n",
    "\n",
    "# Convert numerical data into categorical data\n",
    "y = tensorflow.keras.utils.to_categorical(audio_label, num_classes = 10)\n",
    "\n",
    "# Save the features and labels as a .npz file\n",
    "np.savez_compressed(os.getcwd()+\"/MusicFeatures.npz\", spec=AllSpec, mel=AllMel, mfcc=AllMfcc, zcr=AllZcr, cen=AllCen, chroma=AllChroma, target=y)"
   ]
  }
 ],
 "metadata": {
  "kernelspec": {
   "display_name": "Python 3 (ipykernel)",
   "language": "python",
   "name": "python3"
  },
  "language_info": {
   "codemirror_mode": {
    "name": "ipython",
    "version": 3
   },
   "file_extension": ".py",
   "mimetype": "text/x-python",
   "name": "python",
   "nbconvert_exporter": "python",
   "pygments_lexer": "ipython3",
   "version": "3.12.3"
  }
 },
 "nbformat": 4,
 "nbformat_minor": 5
}
